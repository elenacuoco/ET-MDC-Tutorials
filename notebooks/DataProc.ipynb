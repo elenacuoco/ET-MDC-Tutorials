{
 "cells": [
  {
   "cell_type": "code",
   "execution_count": null,
   "id": "b85cf4a8-5a6b-4e74-a4b9-621eb0107198",
   "metadata": {},
   "outputs": [],
   "source": [
    "# Importing the sys module to manipulate the Python runtime environment\n",
    "import sys\n",
    "\n",
    "# Adding a specific path to the beginning of the sys.path list\n",
    "# This path points to a directory containing Python packages\n",
    "# This is typically done to ensure that the desired version of a package is used\n",
    "# In this case, the path points to the site-packages directory of the igwn-py39 environment\n",
    "sys.path = ['/cvmfs/software.igwn.org/conda/envs/igwn-py39/lib/python3.9/site-packages'] + sys.path"
   ]
  },
  {
   "cell_type": "code",
   "execution_count": null,
   "id": "f2219b34-fbfb-4037-94fc-a026ac76367c",
   "metadata": {},
   "outputs": [],
   "source": [
    "# Importing the pyplot module from the matplotlib library and aliasing it as plt\n",
    "from matplotlib import pyplot as plt\n",
    "\n",
    "# Importing the gwpy library, which provides tools for gravitational wave data analysis\n",
    "import gwpy\n",
    "\n",
    "# Importing the TimeSeries class from the gwpy.timeseries module\n",
    "from gwpy.timeseries import TimeSeries\n",
    "\n",
    "# Importing the NumPy library and aliasing it as np\n",
    "import numpy as np\n",
    "\n",
    "# Importing the Pandas library and aliasing it as pd\n",
    "import pandas as pd\n",
    "\n",
    "# Importing the seaborn library for statistical data visualization\n",
    "import seaborn as sns\n"
   ]
  },
  {
   "cell_type": "code",
   "execution_count": null,
   "id": "2cb16652-55b3-458e-a9f1-0fb4fa347707",
   "metadata": {},
   "outputs": [],
   "source": [
    "# Setting the path to the directory containing the Einstein Telescope Mock Data Challenge 1 (MDC1) data\n",
    "MDC_PATH = \"/cvmfs/et-gw.osgstorage.org/et-gw/PUBLIC/MDC1/data\"\n",
    "\n",
    "# Defining a list of datasets, each identified by a string (E0, E1, ..., C2)\n",
    "DATASETS = ['E0','E1','E2','E3','C1','C2']\n",
    "\n",
    "# Creating a dictionary to map each dataset to its corresponding channel\n",
    "# Each channel is specified as a string with the dataset name followed by \":STRAIN\"\n",
    "CHANNELS = {n : f'{n}:STRAIN' for n in DATASETS}"
   ]
  },
  {
   "cell_type": "code",
   "execution_count": null,
   "id": "37780321-1670-4e4c-9768-526df1e0d3d2",
   "metadata": {},
   "outputs": [],
   "source": [
    "# Reading a gravitational wave strain time series from a GWF file using the gwpy library\n",
    "# The file path is constructed based on the MDC_PATH and dataset ('E1') information\n",
    "e0 = TimeSeries.read(MDC_PATH+'/E1/E-E1_STRAIN_DATA-1000000000-2048.gwf', 'E1:STRAIN')\n",
    "\n",
    "# Printing the first 10 elements of the TimeSeries object (time series data)\n",
    "# The TimeSeries object contains various metadata and information about the strain data\n",
    "print(e0[1:10])\n"
   ]
  },
  {
   "cell_type": "code",
   "execution_count": null,
   "id": "ae73011e-021f-4023-a0ef-4a7966f7906e",
   "metadata": {},
   "outputs": [],
   "source": [
    "# Enabling inline plotting in Jupyter notebooks or IPython environments\n",
    "%matplotlib inline\n",
    "\n",
    "# Creating a plot of the gravitational wave strain data using the plot() method of the TimeSeries object\n",
    "plot = e0.plot()\n"
   ]
  },
  {
   "cell_type": "code",
   "execution_count": null,
   "id": "7419d644-3f96-446a-a815-2496f573da5f",
   "metadata": {},
   "outputs": [],
   "source": [
    "# Computing the amplitude spectral density (ASD) of the gravitational wave strain data\n",
    "# The ASD is calculated using a Fast Fourier Transform (FFT) with a specified length of 4 seconds\n",
    "# The median method is used to estimate the ASD\n",
    "asd = e0.asd(fftlength=4, method=\"median\")\n",
    "\n",
    "# Creating a plot of the computed ASD using the plot() method of the ASD object\n",
    "plot = asd.plot()\n",
    "\n",
    "# Displaying the plot while suppressing any warning messages (if any)\n",
    "plot.show(warn=False)\n"
   ]
  },
  {
   "cell_type": "code",
   "execution_count": null,
   "id": "c1038a20-386e-404f-bf8a-416848db2e29",
   "metadata": {},
   "outputs": [],
   "source": [
    "# Getting the current Axes instance from the plot\n",
    "ax = plot.gca()\n",
    "\n",
    "# Setting the x-axis (frequency) limits of the plot from 1 Hz to 4000 Hz\n",
    "ax.set_xlim(1, 4000)\n",
    "\n",
    "# Setting the y-axis (ASD values) limits of the plot from 1e-25 to 1e-23\n",
    "ax.set_ylim(1e-25, 1e-23)\n",
    "\n",
    "# Displaying the updated plot with adjusted axis limits\n",
    "plot"
   ]
  },
  {
   "cell_type": "code",
   "execution_count": null,
   "id": "e2f91ad1-c7bb-4677-aed4-8cf80cfb0a13",
   "metadata": {},
   "outputs": [],
   "source": [
    "# Whitening the strain data using a window of 4 seconds and a step of 2 seconds\n",
    "white = e0.whiten(8, 4)"
   ]
  },
  {
   "cell_type": "code",
   "execution_count": null,
   "id": "8f7f2f8f-b9a5-49f3-85a3-970dbc5e63a9",
   "metadata": {},
   "outputs": [],
   "source": [
    "%matplotlib inline\n",
    "plot = white.plot()\n",
    "\n"
   ]
  },
  {
   "cell_type": "code",
   "execution_count": null,
   "id": "05291dc7-f9ac-42a6-bf8c-c8253a9f44db",
   "metadata": {},
   "outputs": [],
   "source": [
    "asd = white.asd(fftlength=4, method=\"median\")\n",
    "plot = asd.plot()\n",
    "plot.show(warn=False)"
   ]
  },
  {
   "cell_type": "code",
   "execution_count": null,
   "id": "34fe9b0a-debd-44cf-bcf3-a50657d8315b",
   "metadata": {},
   "outputs": [],
   "source": [
    "ax = plot.gca()\n",
    "ax.set_xlim(1, 4000)\n",
    "ax.set_ylim(1e-2, 1e-2)\n",
    "plot"
   ]
  },
  {
   "cell_type": "code",
   "execution_count": null,
   "id": "1d77b261-01fb-4786-b62c-57c613b36bce",
   "metadata": {},
   "outputs": [],
   "source": [
    "# Plotting Amplitude Spectral Density (ASD)\n",
    "\n",
    "# Calculate and plot the ASD (Amplitude Spectral Density) of the original 'strain' data\n",
    "# The 'fftlength=4' argument sets the length of the Fast Fourier Transform (FFT) window to 4 seconds\n",
    "fig1 = e0.asd(fftlength=4).plot()\n",
    "\n",
    "# Calculate and plot the ASD of the whitened 'white' data\n",
    "# The 'fftlength=4' argument sets the length of the FFT window to 4 seconds\n",
    "fig2 = white.asd(fftlength=4).plot()\n",
    "\n",
    "# Uncomment the following lines to set custom x-axis and y-axis limits:\n",
    "# plt.xlim(10, 2000)   # Set custom x-axis limits (frequency range)\n",
    "# plt.ylim(1e-24, 1e-19)   # Set custom y-axis limits (ASD values)"
   ]
  }
 ],
 "metadata": {
  "kernelspec": {
   "display_name": "Python 3 (ipykernel)",
   "language": "python",
   "name": "python3"
  },
  "language_info": {
   "codemirror_mode": {
    "name": "ipython",
    "version": 3
   },
   "file_extension": ".py",
   "mimetype": "text/x-python",
   "name": "python",
   "nbconvert_exporter": "python",
   "pygments_lexer": "ipython3",
   "version": "3.9.13"
  }
 },
 "nbformat": 4,
 "nbformat_minor": 5
}
