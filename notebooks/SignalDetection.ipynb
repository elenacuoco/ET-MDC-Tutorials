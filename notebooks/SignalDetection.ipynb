{
 "cells": [
  {
   "cell_type": "markdown",
   "id": "687b3d99-a9a3-4f42-ae41-3e8279fae324",
   "metadata": {},
   "source": [
    "# A quick example of standard detection pipeline"
   ]
  },
  {
   "cell_type": "markdown",
   "id": "a36ba95e-7bda-41e9-8eb0-987f54a4a760",
   "metadata": {},
   "source": [
    " \n",
    "# Gravitational Wave Matched Filter\n",
    "\n",
    "The Gravitational Wave (GW) matched filter is a crucial tool in the detection of gravitational waves.  The matched filter operates by correlating the incoming data stream from the gravitational wave detector with a theoretically predicted waveform template. This template is derived from the expected signal characteristics based on gravitational wave theory and the properties of potential astrophysical sources.\n",
    "\n",
    "## Implementation\n",
    "\n",
    "1. **Template Generation**: Construct theoretical waveform templates corresponding to different gravitational wave sources using numerical relativity simulations or analytical approximations.\n",
    "\n",
    "2. **Cross-correlation**: Slide the generated templates over the detector data stream and compute the cross-correlation between the templates and the data at each point in time.\n",
    "\n",
    "3. **Signal Identification**: Look for significant peaks in the correlation output that exceed a predefined threshold. These peaks indicate the presence of a potential gravitational wave signal.\n",
    "\n",
    "4. **Parameter Estimation**: Once a candidate event is identified, refine the estimation of its parameters (such as source location, masses, and orbits) using additional statistical techniques.\n",
    "\n",
    "## Advantages\n",
    "\n",
    "- **Optimal SNR Enhancement**: The matched filter provides the optimal signal enhancement by maximizing the correlation between the expected signal and the detector output.\n",
    "  \n",
    "- **Statistical Significance**: By setting appropriate threshold levels, the matched filter helps in distinguishing true gravitational wave events from random fluctuations in the detector noise.\n",
    "\n",
    "- **Robustness**: It can handle various sources of noise and signal distortions, making it a robust technique for gravitational wave detection.\n",
    "\n",
    " "
   ]
  },
  {
   "cell_type": "markdown",
   "id": "6246779a-5314-4bd9-8531-6215c501e267",
   "metadata": {},
   "source": [
    "The objective of this exercise is to gain a practical understanding of the Gravitational Wave (GW) matched filter technique and its application in the detection of gravitational wave signals.\n",
    "We will use materials from the GWOSC workshop:\n",
    "    https://github.com/gw-odw/odw-2022/tree/main"
   ]
  },
  {
   "cell_type": "code",
   "execution_count": 1,
   "id": "5841feac-615b-46a9-9cfb-fc6fc1ef029e",
   "metadata": {},
   "outputs": [
    {
     "name": "stderr",
     "output_type": "stream",
     "text": [
      "/cvmfs/software.igwn.org/conda/envs/igwn-py39/lib/python3.9/site-packages/gwpy/time/__init__.py:36: UserWarning: Wswiglal-redir-stdio:\n",
      "\n",
      "SWIGLAL standard output/error redirection is enabled in IPython.\n",
      "This may lead to performance penalties. To disable locally, use:\n",
      "\n",
      "with lal.no_swig_redirect_standard_output_error():\n",
      "    ...\n",
      "\n",
      "To disable globally, use:\n",
      "\n",
      "lal.swig_redirect_standard_output_error(True)\n",
      "\n",
      "Note however that this will likely lead to error messages from\n",
      "LAL functions being either misdirected or lost when called from\n",
      "Jupyter notebooks.\n",
      "\n",
      "To suppress this warning, use:\n",
      "\n",
      "import warnings\n",
      "warnings.filterwarnings(\"ignore\", \"Wswiglal-redir-stdio\")\n",
      "import lal\n",
      "\n",
      "  from lal import LIGOTimeGPS\n",
      "/cvmfs/software.igwn.org/conda/envs/igwn-py39/lib/python3.9/site-packages/pandas/core/computation/expressions.py:21: UserWarning: Pandas requires version '2.8.4' or newer of 'numexpr' (version '2.7.3' currently installed).\n",
      "  from pandas.core.computation.check import NUMEXPR_INSTALLED\n",
      "/cvmfs/software.igwn.org/conda/envs/igwn-py39/lib/python3.9/site-packages/pandas/core/arrays/masked.py:60: UserWarning: Pandas requires version '1.3.6' or newer of 'bottleneck' (version '1.3.5' currently installed).\n",
      "  from pandas.core import (\n"
     ]
    }
   ],
   "source": [
    "import sys\n",
    "sys.path = ['/cvmfs/software.igwn.org/conda/envs/igwn-py39/lib/python3.9/site-packages'] + sys.path\n",
    "import gwpy\n",
    "from gwpy.timeseries import TimeSeries\n",
    "from matplotlib import pyplot as plt\n",
    "%matplotlib inline\n",
    "import numpy\n",
    "import pylab\n",
    "import pandas as pd\n",
    "import seaborn as sns\n"
   ]
  },
  {
   "cell_type": "code",
   "execution_count": 2,
   "id": "d8eed888-bb3a-4851-aa82-3a93d8053b0b",
   "metadata": {},
   "outputs": [
    {
     "ename": "SyntaxError",
     "evalue": "invalid syntax (3846423250.py, line 1)",
     "output_type": "error",
     "traceback": [
      "\u001b[0;36m  Cell \u001b[0;32mIn [2], line 1\u001b[0;36m\u001b[0m\n\u001b[0;31m    https://github.com/gw-odw/odw-2022/tree/main\u001b[0m\n\u001b[0m          ^\u001b[0m\n\u001b[0;31mSyntaxError\u001b[0m\u001b[0;31m:\u001b[0m invalid syntax\n"
     ]
    }
   ],
   "source": [
    "https://github.com/gw-odw/odw-2022/tree/main"
   ]
  },
  {
   "cell_type": "code",
   "execution_count": null,
   "id": "a9bfade0-0a3b-48d6-9a9f-5c17340888ba",
   "metadata": {},
   "outputs": [],
   "source": [
    "MDC_PATH = \"/cvmfs/et-gw.osgstorage.org/et-gw/PUBLIC/MDC1/data\"\n",
    "DATASETS = ['E0','E1','E2','E3','C1','C2']\n",
    "CHANNELS = {n : f'{n}:STRAIN' for n in DATASETS}"
   ]
  },
  {
   "cell_type": "code",
   "execution_count": null,
   "id": "a61e7fcb-e378-4ab5-b686-8eb66d33b15d",
   "metadata": {},
   "outputs": [],
   "source": [
    "\n",
    "e0 = TimeSeries.read(MDC_PATH+'/E1/E-E1_STRAIN_DATA-1000000000-2048.gwf', 'E1:STRAIN')\n",
    "# The TimeSeries object contains various useful metadata\n",
    "print(e0[1:10])"
   ]
  },
  {
   "cell_type": "code",
   "execution_count": null,
   "id": "0d01e5bc-045a-46bc-bbde-ec03bdd75079",
   "metadata": {},
   "outputs": [],
   "source": [
    "signals = pd.read_csv('../metadata/list_etmdc1_snr.txt', sep=' ')"
   ]
  },
  {
   "cell_type": "code",
   "execution_count": null,
   "id": "0b670d2c-8691-4d4b-b812-a2d25f2dcf68",
   "metadata": {},
   "outputs": [],
   "source": [
    "# Plot distribution of SNRs\n",
    "print(f'There are {sum(signals[\"SNR\"]>15)} signals with SNR>15.')\n",
    "fig = plt.figure(figsize=(6,4))\n",
    "ax = fig.gca()\n",
    "sns.histplot(signals['SNR'], log_scale=(True,False), kde=True, ax=ax)\n",
    "plt.show()\n"
   ]
  },
  {
   "cell_type": "code",
   "execution_count": null,
   "id": "0a3f4190-7d07-459d-95ec-5bfbaf2f9a4a",
   "metadata": {},
   "outputs": [],
   "source": [
    "! pip install -q 'pycbc' --user"
   ]
  },
  {
   "cell_type": "code",
   "execution_count": null,
   "id": "ea3a319f-9565-4b08-be7f-b42ea7fcdd94",
   "metadata": {},
   "outputs": [],
   "source": [
    "from pycbc.waveform import get_td_waveform\n",
    "\n",
    "# the \"approximant\" (jargon for parameterized waveform family).\n",
    "# IMRPhenomD(a phenomenological Inspiral–Merger–Ringdown wafeform model) is defined in the frequency domain, but we'll get it in the time domain (td).\n",
    "# It runs fast, but it doesn't include effects such as non-aligned component spin, or higher order modes.\n",
    "apx = 'IMRPhenomD'"
   ]
  },
  {
   "cell_type": "code",
   "execution_count": null,
   "id": "7cbb6353-e69d-40cc-b0a3-1c5eba4e9e6d",
   "metadata": {},
   "outputs": [],
   "source": [
    "sample_rate=8192\n",
    " \n",
    "hp1, _ = get_td_waveform(approximant=apx,\n",
    "                         mass1=10,\n",
    "                         mass2=10,\n",
    "                         delta_t=1.0/sample_rate,\n",
    "                         f_lower=25)"
   ]
  },
  {
   "cell_type": "code",
   "execution_count": null,
   "id": "2bd4917c-f7b6-4e28-bc92-b9c21749b514",
   "metadata": {},
   "outputs": [],
   "source": [
    "hp1 = hp1 / max(numpy.correlate(hp1, hp1, mode='full'))**0.5"
   ]
  },
  {
   "cell_type": "code",
   "execution_count": null,
   "id": "26d12abc-3b14-4f03-8d84-72f37aa00390",
   "metadata": {},
   "outputs": [],
   "source": [
    "import lal\n",
    "def read_without_warnings(cachefile, channel, **kwargs):\n",
    "    \"\"\"Reads cache file while suppressing spurious LAL warnings.\n",
    "    Wraps gwpy.timeseries.TimeSeries.read\n",
    "\n",
    "    Args:\n",
    "        cachefile (str): path to cache file\n",
    "        channel (str): Channel name\n",
    "        **kwargs: additional arguments passed to TimeSeries.read\n",
    "    \"\"\"\n",
    "    prev_level = lal.GetDebugLevel()\n",
    "    lal.ClobberDebugLevel(0)\n",
    "    result = TimeSeries.read(cachefile, channel, **kwargs)\n",
    "    lal.ClobberDebugLevel(prev_level)\n",
    "    return result\n",
    "\n",
    "def get_strain(tc, t_before = 4, t_after = 1):\n",
    "    start_time = tc - t_before\n",
    "    end_time = tc + t_after\n",
    "    h = read_without_warnings('../caches/E1.lcf','E1:STRAIN',start=start_time, end=end_time)\n",
    "    return h\n",
    " "
   ]
  },
  {
   "cell_type": "code",
   "execution_count": null,
   "id": "259b4d0b-a76d-4522-a816-67b3d10ce748",
   "metadata": {},
   "outputs": [],
   "source": [
    "tc=1000604258.71989\n",
    "h=get_strain(tc, t_before = 16, t_after = 16)"
   ]
  },
  {
   "cell_type": "code",
   "execution_count": null,
   "id": "6993c465-0002-4be6-97a7-9a656d008344",
   "metadata": {},
   "outputs": [],
   "source": [
    "pylab.figure()\n",
    "pylab.title(\"The strain h\")\n",
    "pylab.plot( h)\n",
    "pylab.xlabel('Time (s)')\n",
    "pylab.ylabel('Normalized amplitude')\n",
    "print (len(h))"
   ]
  },
  {
   "cell_type": "code",
   "execution_count": null,
   "id": "80d3e9f3-fe12-4be7-adca-ff8e5e4dbc90",
   "metadata": {},
   "outputs": [],
   "source": [
    "%matplotlib inline\n",
    "# note that in this figure, the waveform amplitude is of order 1.\n",
    "# The duration (for frequency above f_lower=25 Hz) is only 3 or 4 seconds long.\n",
    "# The waveform is \"tapered\": slowly ramped up from zero to full strength, over the first second or so.\n",
    "# It is zero-padded at earlier times.\n",
    "pylab.figure()\n",
    "pylab.title(\"The waveform hp1\")\n",
    "pylab.plot(hp1.sample_times, hp1)\n",
    "pylab.xlabel('Time (s)')\n",
    "pylab.ylabel('Normalized amplitude')\n",
    "\n"
   ]
  },
  {
   "cell_type": "code",
   "execution_count": null,
   "id": "c6b7d511-cba2-4513-b554-ebd07fd382d5",
   "metadata": {},
   "outputs": [],
   "source": [
    "# Shfrom pycbc.waveform import get_fd_waveform\n",
    "from pycbc.waveform import get_fd_waveform\n",
    "from pycbc.filter import matched_filter\n",
    "from pycbc.filter import resample_to_delta_t, highpass\n",
    "from pycbc.catalog import Merger\n",
    "from pycbc.psd import interpolate, inverse_spectrum_truncation\n",
    "\n",
    "# Calculate the component mass of each black hole in the detector frame\n",
    "cmass = 10\n",
    "# This is a frequency domain waveform generator. It has a very similar syntax to the time domain\n",
    "# waveform function used in prior tutorials. This function returns both a plus and a cross\n",
    "# polarization waveform, but we will just use the plus polarization in building our template\n",
    "# as these are only different by a phase offset in this specific case.\n",
    "hp, _ = get_fd_waveform(approximant=\"IMRPhenomD\",\n",
    "                         mass1=cmass, mass2=cmass,\n",
    "                         f_lower=20.0, delta_f=5)\n",
    "hp.resize(len(psd[ifo]))\n",
    "\n",
    "psd=\n",
    " # For each observatory use this template to calculate the SNR time series\n",
    "matched_filter(hp, h, psd, low_frequency_cutoff=20)"
   ]
  },
  {
   "cell_type": "code",
   "execution_count": null,
   "id": "95f86332-8870-4564-ac19-775dcc09f270",
   "metadata": {},
   "outputs": [],
   "source": []
  },
  {
   "cell_type": "code",
   "execution_count": null,
   "id": "7f1088a1-ccff-4630-8f77-05c7391bb07c",
   "metadata": {},
   "outputs": [],
   "source": []
  }
 ],
 "metadata": {
  "kernelspec": {
   "display_name": "Python 3 (ipykernel)",
   "language": "python",
   "name": "python3"
  },
  "language_info": {
   "codemirror_mode": {
    "name": "ipython",
    "version": 3
   },
   "file_extension": ".py",
   "mimetype": "text/x-python",
   "name": "python",
   "nbconvert_exporter": "python",
   "pygments_lexer": "ipython3",
   "version": "3.9.13"
  }
 },
 "nbformat": 4,
 "nbformat_minor": 5
}
