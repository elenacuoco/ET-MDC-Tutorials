{
 "cells": [
  {
   "cell_type": "markdown",
   "id": "7086a703-26a1-4e3e-becf-809e91266bdd",
   "metadata": {},
   "source": [
    "# Time-Frequency Transform in Signal Processing\n",
    "\n",
    "Time-frequency transform is a powerful technique in signal processing that provides a detailed analysis of how the frequency content of a signal changes over time. Unlike traditional Fourier analysis, which provides a static representation of frequency content, time-frequency transforms offer insights into the dynamic nature of signals, making them particularly useful for analyzing non-stationary signals.\n",
    "\n",
    "#### Fourier Transform vs. Time-Frequency Transform\n",
    "\n",
    "- **Fourier Transform**: Fourier analysis decomposes a signal into its frequency components, providing information about the amplitude and phase of each frequency present in the signal. However, it does not capture how the frequency content evolves over time, making it less suitable for analyzing non-stationary signals.\n",
    "\n",
    "- **Time-Frequency Transform**: Time-frequency transforms, such as the Short-Time Fourier Transform (STFT), Wavelet Transform, and Wigner-Ville Distribution, overcome this limitation by providing a time-varying representation of frequency content. They divide the signal into short segments and analyze the frequency content of each segment separately, allowing for the detection of transient events and frequency modulations.\n",
    "\n",
    "#### Types of Time-Frequency Transforms\n",
    "\n",
    "1. **Short-Time Fourier Transform (STFT)**: STFT computes the Fourier transform of short segments of a signal, providing a time-varying representation of frequency content. It is widely used for tasks such as audio processing, speech recognition, and vibration analysis.\n",
    "\n",
    "2. **Wavelet Transform**: Wavelet transform decomposes a signal into wavelet coefficients at different scales and positions. It offers excellent time and frequency localization, making it suitable for analyzing signals with varying frequency components.\n",
    " \n",
    " \n",
    "\n",
    "Overall, time-frequency transforms play a crucial role in analyzing non-stationary signals across various domains, providing valuable insights into the dynamic behavior of signals over time and frequency."
   ]
  },
  {
   "cell_type": "code",
   "execution_count": null,
   "id": "b85cf4a8-5a6b-4e74-a4b9-621eb0107198",
   "metadata": {},
   "outputs": [],
   "source": [
    "# Importing the sys module to manipulate the Python runtime environment\n",
    "import sys\n",
    "\n",
    "# Adding a specific path to the beginning of the sys.path list\n",
    "# This path points to a directory containing Python packages\n",
    "# This is typically done to ensure that the desired version of a package is used\n",
    "# In this case, the path points to the site-packages directory of the igwn-py39 environment\n",
    "sys.path = ['/cvmfs/software.igwn.org/conda/envs/igwn-py39/lib/python3.9/site-packages'] + sys.path"
   ]
  },
  {
   "cell_type": "code",
   "execution_count": null,
   "id": "f2219b34-fbfb-4037-94fc-a026ac76367c",
   "metadata": {},
   "outputs": [],
   "source": [
    "# Importing the pyplot module from the matplotlib library and aliasing it as plt\n",
    "from matplotlib import pyplot as plt\n",
    "# Set matplotlib configuration parameters\n",
    "plt.rcParams['figure.figsize'] = (8, 6)\n",
    "plt.rcParams['axes.grid'] = False\n",
    " \n",
    "\n",
    "# Importing the gwpy library, which provides tools for gravitational wave data analysis\n",
    "import gwpy\n",
    "\n",
    "# Importing the TimeSeries class from the gwpy.timeseries module\n",
    "from gwpy.timeseries import TimeSeries\n",
    "\n",
    "# Importing the NumPy library and aliasing it as np\n",
    "import numpy as np\n",
    "\n",
    "# Importing the Pandas library and aliasing it as pd\n",
    "import pandas as pd\n",
    "\n",
    "# Importing the seaborn library for statistical data visualization\n",
    "import seaborn as sns\n"
   ]
  },
  {
   "cell_type": "markdown",
   "id": "24db863e-6ee2-4a32-8224-e317fd55fd9b",
   "metadata": {},
   "source": [
    "## Select a segment of the time series"
   ]
  },
  {
   "cell_type": "code",
   "execution_count": null,
   "id": "1ac4dda3-1362-4971-8825-469befe05624",
   "metadata": {},
   "outputs": [],
   "source": [
    "import lal\n",
    "def read_without_warnings(cachefile, channel, **kwargs):\n",
    "    \"\"\"Reads cache file while suppressing spurious LAL warnings.\n",
    "    Wraps gwpy.timeseries.TimeSeries.read\n",
    "\n",
    "    Args:\n",
    "        cachefile (str): path to cache file\n",
    "        channel (str): Channel name\n",
    "        **kwargs: additional arguments passed to TimeSeries.read\n",
    "    \"\"\"\n",
    "    prev_level = lal.GetDebugLevel()\n",
    "    lal.ClobberDebugLevel(0)\n",
    "    result = TimeSeries.read(cachefile, channel, **kwargs)\n",
    "    lal.ClobberDebugLevel(prev_level)\n",
    "    return result\n",
    "\n",
    "def get_strain(tc, t_before = 4, t_after = 1):\n",
    "    start_time = tc - t_before\n",
    "    end_time = tc + t_after\n",
    "    h = read_without_warnings('../caches/E1.lcf','E1:STRAIN',start=start_time, end=end_time)\n",
    "    return h"
   ]
  },
  {
   "cell_type": "code",
   "execution_count": null,
   "id": "027243f1-0ac4-45c3-9650-8f2695d7c7e3",
   "metadata": {},
   "outputs": [],
   "source": [
    "# Importing the Pandas library and aliasing it as pd\n",
    "import pandas as pd\n",
    "\n",
    "# Reading a CSV file containing metadata about signals\n",
    "# The file is assumed to be located one level up in the directory structure\n",
    "df = pd.read_csv('../metadata/list_mdc1.txt', sep=' ')\n",
    "df_snr=df[df['snrET_Opt']>30]\n",
    "signals=df_snr.sort_values(by=['snrET_Opt'],ascending=True)\n",
    "# Choosing the top few signals (Nsig = 4)\n",
    "Nsig = 10\n",
    "top_sigs = signals.iloc[:Nsig]\n",
    "\n",
    "# Iterating over the top signals and printing relevant information\n",
    "for idx, pars in top_sigs.iterrows():\n",
    "    # Printing information about each signal\n",
    "    print(f'Inj {int(pars[\"#\"])}, tc {pars[\"tc\"]}, SNR {pars[\"snrET_Opt\"]}')"
   ]
  },
  {
   "cell_type": "code",
   "execution_count": null,
   "id": "d464a4d7-8531-493b-a5d1-6d9b6626a0c4",
   "metadata": {},
   "outputs": [],
   "source": [
    "tc=1001675298.80277\n",
    "h = get_strain(tc, t_before=5, t_after=1)"
   ]
  },
  {
   "cell_type": "code",
   "execution_count": null,
   "id": "ed00c600-935c-40f7-95ad-7aef190e4e89",
   "metadata": {},
   "outputs": [],
   "source": [
    "hw=h.whiten(4,2)"
   ]
  },
  {
   "cell_type": "code",
   "execution_count": null,
   "id": "9e396b8d-f0c5-4f8e-8859-189e2eacde93",
   "metadata": {},
   "outputs": [],
   "source": [
    "plt.figure()\n",
    "# Normalize the 'h' array to be in the range [0, 1]\n",
    "h_norm = (h - np.min(h)) / (np.max(h) - np.min(h))\n",
    "\n",
    "# Normalize the 'hw' array to be in the range [0, 1]\n",
    "hw_norm = (hw - np.min(hw)) / (np.max(hw) - np.min(hw))\n",
    "\n",
    "# Plot the normalized 'h' array as the raw time series\n",
    "plt.plot(h_norm, label='raw time series')\n",
    "\n",
    "# Plot the normalized 'hw' array as the whitened time series\n",
    "plt.plot(hw_norm, label='whitened time series')\n",
    "\n",
    "# Add a legend to the plot indicating which line corresponds to which data\n",
    "plt.legend()\n",
    "\n",
    "# Display the plot\n",
    "plt.show()"
   ]
  },
  {
   "cell_type": "code",
   "execution_count": null,
   "id": "76a30848-c7fa-4e3c-8fba-cbd56fcbdaad",
   "metadata": {},
   "outputs": [],
   "source": [
    "# Import necessary libraries and modules\n",
    "import matplotlib.pyplot as plt\n",
    "import IPython\n",
    "import IPython.display\n",
    "import matplotlib as mpl\n",
    "from matplotlib import cm\n",
    "from scipy import signal\n",
    "from matplotlib.colors import LogNorm\n",
    "from PIL import Image\n",
    "\n",
    "# Set matplotlib configuration parameters\n",
    "mpl.rcParams['figure.figsize'] = (8, 6)\n",
    "mpl.rcParams['axes.grid'] = False\n",
    "\n",
    "# Import NumPy library\n",
    "import numpy as np\n",
    "\n",
    "# Import additional libraries and modules\n",
    "import numpy as np\n",
    "import matplotlib.pyplot as plt\n",
    "from scipy import signal\n",
    "from matplotlib.colors import LogNorm\n",
    "\n",
    "def prepareImage(y, fs, title):\n",
    "    \"\"\"\n",
    "    Create and display a spectrogram plot using the Short-Time Fourier Transform (STFT).\n",
    "\n",
    "    Parameters:\n",
    "        y (numpy.ndarray): Signal data.\n",
    "        fs (float): Sampling frequency.\n",
    "        title (str): Title for the plot.\n",
    "\n",
    "    Returns:\n",
    "        None\n",
    "    \"\"\"\n",
    "    # Calculate the spectrogram using the Short-Time Fourier Transform (STFT)\n",
    "    f, t, Sxx = signal.spectrogram(y, fs)\n",
    "    \n",
    "    # Create a pseudocolor mesh plot using the spectrogram data\n",
    "    plt.pcolormesh(t, f, Sxx, cmap='viridis', shading='gouraud', alpha=0.95)\n",
    "    \n",
    "    # Set the y-axis scale to logarithmic\n",
    "    plt.yscale('log')\n",
    "    \n",
    "    # Set the y-axis limits to be between 10 Hz and half of the sampling frequency\n",
    "    plt.ylim(10, fs/2)\n",
    "    \n",
    "    # Set the title for the plot\n",
    "    plt.title(str(title))\n",
    "    \n",
    "    # Set labels for the x and y axes\n",
    "    plt.xlabel('Time (secs)')\n",
    "    plt.ylabel('Frequency (Hz)')\n",
    "    \n",
    "    # Add a colorbar to the plot for visualization\n",
    "    plt.colorbar()\n",
    "    \n",
    "    # Display the spectrogram plot\n",
    "    plt.show()"
   ]
  },
  {
   "cell_type": "code",
   "execution_count": null,
   "id": "965863df-390f-42f9-90b3-fa1baa2330c5",
   "metadata": {},
   "outputs": [],
   "source": [
    "fs=8192\n",
    "prepareImage(h_norm,fs,title=\"Spectrogram\")"
   ]
  },
  {
   "cell_type": "code",
   "execution_count": null,
   "id": "e9b9c358-79d6-44fb-8937-9d634ae2f211",
   "metadata": {},
   "outputs": [],
   "source": [
    "prepareImage(hw_norm,fs,title=\"Spectrogram\")"
   ]
  },
  {
   "cell_type": "markdown",
   "id": "9ba03ec8-fd1c-4ff4-bd18-d03131e5e5b0",
   "metadata": {},
   "source": [
    "## Wavelet transform"
   ]
  },
  {
   "cell_type": "markdown",
   "id": "f86254cb-244b-4f03-8bec-b6dc5384833d",
   "metadata": {},
   "source": [
    "###  SSqueezepy: Time-Frequency Analysis Package \n",
    "[[github repo ]https://github.com/OverLordGoldDragon/ssqueezepy/tree/master]\n",
    "SSqueezepy is a Python package designed for time-frequency analysis, offering a range of tools and algorithms for signal processing tasks. This package primarily focuses on synchrosqueezing transform (SST) methods, which are powerful techniques used in various domains such as signal processing, machine learning, and neuroscience.\n",
    "\n",
    " "
   ]
  },
  {
   "cell_type": "code",
   "execution_count": null,
   "id": "1f57d636-72ff-414d-b81c-bdc69b17c336",
   "metadata": {},
   "outputs": [],
   "source": [
    "!pip install ssqueezepy --user"
   ]
  },
  {
   "cell_type": "code",
   "execution_count": null,
   "id": "1da84b87-7cd5-4dc4-aeaf-13d158d669aa",
   "metadata": {},
   "outputs": [],
   "source": [
    "from ssqueezepy import cwt\n",
    "from ssqueezepy import imshow \n",
    " \n",
    "def prepareImage_cwt(y,fs):\n",
    "    Wx,scales=cwt(y,'morlet')\n",
    "    imshow(Wx,yticks=scales,abs=1)\n",
    "    \n",
    "     \n",
    "   \n",
    "prepareImage_cwt(hw_norm,fs)    "
   ]
  },
  {
   "cell_type": "markdown",
   "id": "a7826ec9-a9f6-4613-b6a1-ce32e321fe3a",
   "metadata": {},
   "source": [
    "##  Q-transform"
   ]
  },
  {
   "cell_type": "markdown",
   "id": "3de91840-8342-4971-bcf2-52ba700f73ce",
   "metadata": {},
   "source": [
    "The Q-transform is a mathematical technique used for time-frequency analysis, particularly adept at handling signals with rapidly changing frequencies or non-stationary characteristics. At its core, the Q-transform involves decomposing a signal into its constituent components in the time-frequency domain, providing a detailed representation of how the signal's frequency content evolves over time.\n",
    "\n",
    " "
   ]
  },
  {
   "cell_type": "code",
   "execution_count": null,
   "id": "72428ed7-7944-4e14-9263-863dfc0475ec",
   "metadata": {},
   "outputs": [],
   "source": [
    "hq = hw_norm.q_transform(frange=(10, 200))\n",
    "plot = hq.plot()\n",
    "plot.colorbar(label=\"Normalised energy\")"
   ]
  },
  {
   "cell_type": "code",
   "execution_count": null,
   "id": "26537518-b8be-40b6-9dda-8ce941bbf9af",
   "metadata": {},
   "outputs": [],
   "source": []
  }
 ],
 "metadata": {
  "kernelspec": {
   "display_name": "Python 3 (ipykernel)",
   "language": "python",
   "name": "python3"
  },
  "language_info": {
   "codemirror_mode": {
    "name": "ipython",
    "version": 3
   },
   "file_extension": ".py",
   "mimetype": "text/x-python",
   "name": "python",
   "nbconvert_exporter": "python",
   "pygments_lexer": "ipython3",
   "version": "3.9.13"
  }
 },
 "nbformat": 4,
 "nbformat_minor": 5
}
