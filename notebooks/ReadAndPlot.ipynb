{
 "cells": [
  {
   "cell_type": "markdown",
   "id": "eb931de8-ee8b-40a5-934d-6351d46b7194",
   "metadata": {},
   "source": [
    "# How to access, read and plot ET MDC1 data"
   ]
  },
  {
   "cell_type": "markdown",
   "id": "d4bf1011-6dbb-4685-9ec7-0e12fd59c596",
   "metadata": {},
   "source": [
    "The Einstein Telescope Data Mock Data Challenge is a collaborative effort within the scientific community to generate and analyze simulated gravitational wave signals that mimic those expected to be detected by the ET. These mock data challenges provide an invaluable opportunity for researchers to evaluate their methods for detecting and characterizing gravitational wave signals under realistic conditions.\n",
    "The challenge then involves developing and applying data analysis algorithms to identify and extract these signals from the noise, as well as to infer properties of the astrophysical sources that produced them.\n"
   ]
  },
  {
   "cell_type": "markdown",
   "id": "5aa641c1-791b-4f25-895d-56f7d4c50dd8",
   "metadata": {},
   "source": [
    "## Operative Instructions"
   ]
  },
  {
   "cell_type": "markdown",
   "id": "2565c61e-db91-4b75-bde2-167fcfcd7328",
   "metadata": {},
   "source": [
    "This is the first ET-CE MDC. Here are the where, what, how, etc. of the MDSC.\n",
    "\n",
    "**Where is the data available?**\n",
    "- Data is available at: `/cvmfs/et-gw.osgstorage.org/et-gw/PUBLIC/MDC1`\n",
    "- Instructions: [ET-GW Wiki](https://wiki.et-gw.eu/EIB/SoftwareFrameworks/WebHome?validation_key=e2698d03b6eff5856cfab4654d3fbfe5)\n",
    "\n",
    "**How long is the data set?**\n",
    "- The data is about one-month long split into 1300 segments of 2048 s, sampled at 8192 Hz. \n",
    "- The GW signal and noise are continuous from one segment to the other as well as the waveforms.\n",
    "\n",
    "**What format is the data in?**\n",
    "- In Frames for ET V-shaped detectors E1, E2, E3 and the null stream E0, and for Cosmic Explorer L-shaped detectors C1 (Pacific, 40 km) and C2 (Gulf of Mexico, 20 km). \n",
    "- Future releases will have hdf5 format. \n",
    "- Represents 1.3 TB in total for ET alone.\n",
    "\n",
    "**What does the data contain?**\n",
    "- Two sets of data:\n",
    "  1. GW signal+noise in `MDC1/data/E0,E1,E2,E3,C1,C2`\n",
    "  2. Noise only in `MDC1/noise/E0,E1,E2,E3,C1,C2`\n",
    "- GW signal from BNS (59540), BBH (6578), and BHNS (1977) populations\n",
    "- Colored Gaussian noise with no noise artifacts at the moment. \n",
    "- Noise PSD mimicking the expected PSDs of ET 10 km, and of CE 40 km & 20 km [ET PSD](https://wiki.et-gw.eu/OSB/CoBA?validation_key=57de62e375f00b98500a2368e16785d8) and [CE PSD](https://cosmicexplorer.org/sensitivity.html)\n",
    "\n",
    "**Which Waveforms were used?**\n",
    "- For BNS: IMRPhenomPNRv2 (NRTidalv2_V) with no spins.\n",
    "- For BBH: IMRPhenomXPHM.\n",
    "- For NSBH: IMRPhenomXPHM.\n",
    "\n",
    "**Are the source parameters available?**\n",
    "- Lists of sources available in the folders `params/paramsET` and `params/paramsCE` for each segment (`params_$segment.dat`) with the optimal expected SNR for ET and CE. \n",
    "- Full list for the complete dataset available in the folder `lists` (`list_mdc1.txt`).\n",
    "\n",
    "**Parameter Columns:**\n",
    "- `params_$segment.dat`: \n",
    "  - `#, starting_time, final_time, time@Maximum, ... snr_optimal, type (BNS=1, BHNS=2, BBH=3)`\n",
    "- `list_mdc1.txt`:\n",
    "  - `#, starting_time, final_time, time@Maximum, ... snrET_optimal, snrCE_optimal, type (BNS=1, BHNS=2, BBH=3)`\n",
    "\n",
    "Note: Starting and final times are given for the center of the Earth. Exact times at the detectors have a delay (a few or a few tens of milliseconds) depending on the position of the source and the location of the detectors.\n"
   ]
  },
  {
   "cell_type": "markdown",
   "id": "a47da94c-9a4f-4438-9011-a8e4ebb8434c",
   "metadata": {},
   "source": [
    "## List of injected signals"
   ]
  },
  {
   "cell_type": "markdown",
   "id": "a48c5ccf-684b-4f79-9cd1-b2ece1c9225b",
   "metadata": {},
   "source": [
    "**Modified from https://gitlab.et-gw.eu/osb/div10/mdc-tutorial**"
   ]
  },
  {
   "cell_type": "code",
   "execution_count": 1,
   "id": "e74c2913-5255-4a5c-a933-26ba6cbf47c7",
   "metadata": {},
   "outputs": [],
   "source": [
    "# Importing the sys module to manipulate the Python runtime environment\n",
    "import sys\n",
    "\n",
    "# Adding a specific path to the beginning of the sys.path list\n",
    "# This path points to a directory containing Python packages\n",
    "# This is typically done to ensure that the desired version of a package is used\n",
    "# In this case, the path points to the site-packages directory of the igwn-py39 environment\n",
    "sys.path = ['/cvmfs/software.igwn.org/conda/envs/igwn-py39/lib/python3.9/site-packages'] + sys.path\n"
   ]
  },
  {
   "cell_type": "code",
   "execution_count": 2,
   "id": "62081442-89eb-4d33-a34e-979e7c824817",
   "metadata": {},
   "outputs": [
    {
     "name": "stderr",
     "output_type": "stream",
     "text": [
      "/cvmfs/software.igwn.org/conda/envs/igwn-py39/lib/python3.9/site-packages/gwpy/time/__init__.py:36: UserWarning: Wswiglal-redir-stdio:\n",
      "\n",
      "SWIGLAL standard output/error redirection is enabled in IPython.\n",
      "This may lead to performance penalties. To disable locally, use:\n",
      "\n",
      "with lal.no_swig_redirect_standard_output_error():\n",
      "    ...\n",
      "\n",
      "To disable globally, use:\n",
      "\n",
      "lal.swig_redirect_standard_output_error(True)\n",
      "\n",
      "Note however that this will likely lead to error messages from\n",
      "LAL functions being either misdirected or lost when called from\n",
      "Jupyter notebooks.\n",
      "\n",
      "To suppress this warning, use:\n",
      "\n",
      "import warnings\n",
      "warnings.filterwarnings(\"ignore\", \"Wswiglal-redir-stdio\")\n",
      "import lal\n",
      "\n",
      "  from lal import LIGOTimeGPS\n",
      "/cvmfs/software.igwn.org/conda/envs/igwn-py39/lib/python3.9/site-packages/pandas/core/computation/expressions.py:21: UserWarning: Pandas requires version '2.8.0' or newer of 'numexpr' (version '2.7.3' currently installed).\n",
      "  from pandas.core.computation.check import NUMEXPR_INSTALLED\n"
     ]
    }
   ],
   "source": [
    "# Importing the pyplot module from the matplotlib library and aliasing it as plt\n",
    "from matplotlib import pyplot as plt\n",
    "\n",
    "# Importing the gwpy library, which provides tools for gravitational wave data analysis\n",
    "import gwpy\n",
    "\n",
    "# Importing the TimeSeries class from the gwpy.timeseries module\n",
    "from gwpy.timeseries import TimeSeries\n",
    "\n",
    "# Importing the NumPy library and aliasing it as np\n",
    "import numpy as np\n",
    "\n",
    "# Importing the Pandas library and aliasing it as pd\n",
    "import pandas as pd\n",
    "\n",
    "# Importing the seaborn library for statistical data visualization\n",
    "import seaborn as sns\n"
   ]
  },
  {
   "cell_type": "code",
   "execution_count": 3,
   "id": "007c4d6f-ac13-43fd-b1ac-7166c12f3421",
   "metadata": {},
   "outputs": [],
   "source": [
    "# Setting the path to the directory containing the Einstein Telescope Mock Data Challenge 1 (MDC1) data\n",
    "MDC_PATH = \"/cvmfs/et-gw.osgstorage.org/et-gw/PUBLIC/MDC1/data\"\n",
    "\n",
    "# Defining a list of datasets, each identified by a string (E0, E1, ..., C2)\n",
    "DATASETS = ['E0','E1','E2','E3','C1','C2']\n",
    "\n",
    "# Creating a dictionary to map each dataset to its corresponding channel\n",
    "# Each channel is specified as a string with the dataset name followed by \":STRAIN\"\n",
    "CHANNELS = {n : f'{n}:STRAIN' for n in DATASETS}"
   ]
  },
  {
   "cell_type": "code",
   "execution_count": 4,
   "id": "398b7396-5acd-4c62-9e3e-19fcc23f6668",
   "metadata": {},
   "outputs": [
    {
     "name": "stdout",
     "output_type": "stream",
     "text": [
      "TimeSeries([-5.54284896e-23,  8.72894580e-23, -1.52215950e-22,\n",
      "             1.93370972e-22, -1.56591158e-22,  2.12791581e-22,\n",
      "            -7.75441870e-23, -5.23293157e-23, -7.15922186e-23]\n",
      "           unit: strain,\n",
      "           t0: 1000000000.0001221 s,\n",
      "           dt: 0.0001220703125 s,\n",
      "           name: E1:STRAIN,\n",
      "           channel: E1:STRAIN)\n"
     ]
    }
   ],
   "source": [
    "# Reading a gravitational wave strain time series from a GWF file using the gwpy library\n",
    "# The file path is constructed based on the MDC_PATH and dataset ('E1') information\n",
    "e0 = TimeSeries.read(MDC_PATH+'/E1/E-E1_STRAIN_DATA-1000000000-2048.gwf', 'E1:STRAIN')\n",
    "\n",
    "# Printing the first 10 elements of the TimeSeries object (time series data)\n",
    "# The TimeSeries object contains various metadata and information about the strain data\n",
    "print(e0[1:10])\n"
   ]
  },
  {
   "cell_type": "code",
   "execution_count": 5,
   "id": "bfa71421-272b-4d39-9e02-6fd74a8e2e87",
   "metadata": {},
   "outputs": [
    {
     "data": {
      "image/png": "[encoded data removed]",
      "text/plain": [
       "<Plot size 1200x400 with 1 Axes>"
      ]
     },
     "metadata": {},
     "output_type": "display_data"
    }
   ],
   "source": [
    "# Enabling inline plotting in Jupyter notebooks or IPython environments\n",
    "%matplotlib inline\n",
    "\n",
    "# Creating a plot of the gravitational wave strain data using the plot() method of the TimeSeries object\n",
    "plot = e0.plot()\n"
   ]
  },
  {
   "cell_type": "markdown",
   "id": "aa22e90e-d952-4e73-b263-80a1bec92b1f",
   "metadata": {},
   "source": [
    "### How to plot only the signal on a given time window"
   ]
  },
  {
   "cell_type": "code",
   "execution_count": 6,
   "id": "8ac8a1f0-fa30-4c5e-bd6e-32aa1e2f317a",
   "metadata": {},
   "outputs": [],
   "source": [
    "# Importing the lal module, which is part of the LIGO Scientific Collaboration (LSC) software stack\n",
    "import lal\n",
    "\n",
    "def read_without_warnings(cachefile, channel, **kwargs):\n",
    "    \"\"\"\n",
    "    Reads cache file while suppressing spurious LAL warnings.\n",
    "    Wraps gwpy.timeseries.TimeSeries.read\n",
    "\n",
    "    Args:\n",
    "        cachefile (str): path to cache file\n",
    "        channel (str): Channel name\n",
    "        **kwargs: additional arguments passed to TimeSeries.read\n",
    "    \"\"\"\n",
    "    # Storing the previous debug level to later restore it\n",
    "    prev_level = lal.GetDebugLevel()\n",
    "\n",
    "    # Temporarily setting the LAL debug level to 0 (suppressing warnings)\n",
    "    lal.ClobberDebugLevel(0)\n",
    "\n",
    "    # Reading the cache file using gwpy.timeseries.TimeSeries.read\n",
    "    result = TimeSeries.read(cachefile, channel, **kwargs)\n",
    "\n",
    "    # Restoring the original LAL debug level\n",
    "    lal.ClobberDebugLevel(prev_level)\n",
    "\n",
    "    # Returning the result (TimeSeries object)\n",
    "    return result\n",
    "\n",
    "def get_strain(file, channel, tc, t_before=4, t_after=1):\n",
    "    \"\"\"\n",
    "    Reads a portion of strain data from a cache file centered around a specified time.\n",
    "    \n",
    "    Args:\n",
    "        file (str): Path to the cache file\n",
    "        channel (str): Channel name\n",
    "        tc (float): Time center around which to read strain data\n",
    "        t_before (float): Time before the center time to include in the data\n",
    "        t_after (float): Time after the center time to include in the data\n",
    "\n",
    "    Returns:\n",
    "        TimeSeries: Portion of the strain data centered around the specified time\n",
    "    \"\"\"\n",
    "    # Calculating the start and end times based on the specified time center and time intervals\n",
    "    start_time = tc - t_before\n",
    "    end_time = tc + t_after\n",
    "\n",
    "    # Reading the strain data from the cache file without generating LAL warnings\n",
    "    h = read_without_warnings(file, channel, start=start_time, end=end_time)\n",
    "\n",
    "    # Returning the TimeSeries object containing the strain data\n",
    "    return h\n"
   ]
  },
  {
   "cell_type": "code",
   "execution_count": 7,
   "id": "bad53248-8fa7-4091-8213-d631e6c1d285",
   "metadata": {},
   "outputs": [
    {
     "name": "stdout",
     "output_type": "stream",
     "text": [
      "Inj 42581, tc 1001620463.11925, SNR 587.553918\n",
      "Inj 42634, tc 1001622678.23317, SNR 386.213044\n",
      "Inj 35118, tc 1001338345.05655, SNR 383.954083\n",
      "Inj 41037, tc 1001560353.66079, SNR 374.579215\n"
     ]
    }
   ],
   "source": [
    "# Importing the Pandas library and aliasing it as pd\n",
    "import pandas as pd\n",
    "\n",
    "# Reading a CSV file containing metadata about signals\n",
    "# The file is assumed to be located one level up in the directory structure\n",
    "df = pd.read_csv('../metadata/list_mdc1.txt', sep=' ')\n",
    "signals=df.sort_values(by=['snrET_Opt'],ascending=False)\n",
    "# Choosing the top few signals (Nsig = 4)\n",
    "Nsig = 4\n",
    "top_sigs = signals.iloc[:Nsig]\n",
    "\n",
    "# Iterating over the top signals and printing relevant information\n",
    "for idx, pars in top_sigs.iterrows():\n",
    "    # Printing information about each signal\n",
    "    print(f'Inj {int(pars[\"#\"])}, tc {pars[\"tc\"]}, SNR {pars[\"snrET_Opt\"]}')\n"
   ]
  },
  {
   "cell_type": "code",
   "execution_count": null,
   "id": "1db31ead-cb5f-401d-89f3-6cf71d1a9930",
   "metadata": {},
   "outputs": [],
   "source": [
    "# Specifying the path to the cache file\n",
    "file = '../caches/E1.lcf'\n",
    "\n",
    "# Specifying the channel name\n",
    "channel = 'E1:STRAIN'\n",
    "\n",
    "# Specifying the time center for reading strain data\n",
    "tc = 1001620463.11925\n",
    "\n",
    "# Reading a portion of strain data from the cache file centered around the specified time\n",
    "# The data includes a time window of 12 seconds before and 8 seconds after the center time\n",
    "h = get_strain(file, channel, tc, t_before=12, t_after=8)\n",
    "\n",
    "# Plotting the strain data\n",
    "h.plot()\n",
    "\n",
    "# Displaying the plot\n",
    "plt.show()\n"
   ]
  }
 ],
 "metadata": {
  "kernelspec": {
   "display_name": "Python 3 (ipykernel)",
   "language": "python",
   "name": "python3"
  },
  "language_info": {
   "codemirror_mode": {
    "name": "ipython",
    "version": 3
   },
   "file_extension": ".py",
   "mimetype": "text/x-python",
   "name": "python",
   "nbconvert_exporter": "python",
   "pygments_lexer": "ipython3",
   "version": "3.9.13"
  }
 },
 "nbformat": 4,
 "nbformat_minor": 5
}
